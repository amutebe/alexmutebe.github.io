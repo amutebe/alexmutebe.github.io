{
  "cells": [
    {
      "cell_type": "markdown",
      "metadata": {
        "id": "view-in-github",
        "colab_type": "text"
      },
      "source": [
        "<a href=\"https://colab.research.google.com/github/amutebe/alexmutebe.github.io/blob/main/MACHINE%20LEARNING/UNIT%207/Unit07_Ex1_simple_perceptron.ipynb\" target=\"_parent\"><img src=\"https://colab.research.google.com/assets/colab-badge.svg\" alt=\"Open In Colab\"/></a>"
      ]
    },
    {
      "cell_type": "markdown",
      "metadata": {
        "id": "JGgCDBRdyxD_"
      },
      "source": [
        "### Author: Dr Mike Lakoju, CardiffMet"
      ]
    },
    {
      "cell_type": "markdown",
      "metadata": {
        "id": "wjL2JMFcyxEc"
      },
      "source": [
        "### We are re-implementing the last code. With Neural networks, most implementation uses large datasets, and it is important to write our code in a more optimized manner. We will be using Numpy Library to achieve this."
      ]
    },
    {
      "cell_type": "markdown",
      "metadata": {
        "id": "FriMeCzZyxEl"
      },
      "source": [
        "# Import Library\n"
      ]
    },
    {
      "cell_type": "code",
      "execution_count": null,
      "metadata": {
        "id": "pxvHWUaOyxEn"
      },
      "outputs": [],
      "source": [
        "import numpy as np"
      ]
    },
    {
      "cell_type": "markdown",
      "metadata": {
        "id": "LbU4nqP6yxEw"
      },
      "source": [
        "# Lets define the Inputs and weights"
      ]
    },
    {
      "cell_type": "markdown",
      "metadata": {
        "id": "0DHEN8VHyxEx"
      },
      "source": [
        "With NumPy, we work with arrays. Hence we will need to define our inputs as arrays"
      ]
    },
    {
      "cell_type": "code",
      "execution_count": null,
      "metadata": {
        "id": "6VhTe3CRyxEz"
      },
      "outputs": [],
      "source": [
        "inputs = np.array([45, 25])"
      ]
    },
    {
      "cell_type": "code",
      "execution_count": null,
      "metadata": {
        "colab": {
          "base_uri": "https://localhost:8080/"
        },
        "id": "sf9bMIU6yxE1",
        "outputId": "f9d213eb-4e0b-4854-d5e5-1416503bb24a"
      },
      "outputs": [
        {
          "output_type": "execute_result",
          "data": {
            "text/plain": [
              "numpy.ndarray"
            ]
          },
          "metadata": {},
          "execution_count": 6
        }
      ],
      "source": [
        "# Check the type of the inputs\n",
        "\n",
        "type(inputs)"
      ]
    },
    {
      "cell_type": "code",
      "execution_count": null,
      "metadata": {
        "colab": {
          "base_uri": "https://localhost:8080/"
        },
        "id": "-3nDqDAZyxE9",
        "outputId": "4141f97f-5f9b-49f8-a965-1ca2fa7ec170"
      },
      "outputs": [
        {
          "output_type": "execute_result",
          "data": {
            "text/plain": [
              "45"
            ]
          },
          "metadata": {},
          "execution_count": 7
        }
      ],
      "source": [
        "# check the value at index position 0\n",
        "inputs[0]"
      ]
    },
    {
      "cell_type": "markdown",
      "metadata": {
        "id": "xcMSfBrByxE_"
      },
      "source": [
        "# Lets define the weights"
      ]
    },
    {
      "cell_type": "code",
      "execution_count": null,
      "metadata": {
        "id": "Pa17nIduyxFA"
      },
      "outputs": [],
      "source": [
        "# creating the weights as Numpy array\n",
        "\n",
        "weights = np.array([0.7, 0.1])"
      ]
    },
    {
      "cell_type": "code",
      "execution_count": null,
      "metadata": {
        "colab": {
          "base_uri": "https://localhost:8080/"
        },
        "id": "rm319y_jyxFB",
        "outputId": "58759ce0-1a04-4592-837f-bd46a18b9d75"
      },
      "outputs": [
        {
          "output_type": "execute_result",
          "data": {
            "text/plain": [
              "0.7"
            ]
          },
          "metadata": {},
          "execution_count": 9
        }
      ],
      "source": [
        "# Check the value at index 0\n",
        "\n",
        "weights[0]"
      ]
    },
    {
      "cell_type": "markdown",
      "metadata": {
        "id": "JG39bCPsyxFI"
      },
      "source": [
        "# Create the Sum Function\n"
      ]
    },
    {
      "cell_type": "markdown",
      "metadata": {
        "id": "FXwNhTeEyxFI"
      },
      "source": [
        "The dot function is called the dot product from linear algebra. If you are dealing with a huge dataset, The processing difference between the for loop used in the last notebook and this dot product will significantly be different."
      ]
    },
    {
      "cell_type": "code",
      "execution_count": null,
      "metadata": {
        "id": "AlkSsxsRyxFJ"
      },
      "outputs": [],
      "source": [
        "def sum_func(inputs, weights):\n",
        "    return inputs.dot(weights)\n"
      ]
    },
    {
      "cell_type": "code",
      "execution_count": null,
      "metadata": {
        "colab": {
          "base_uri": "https://localhost:8080/"
        },
        "id": "v6To4aNGyxFK",
        "outputId": "a1f3a54c-2597-4ec4-8b2c-4c6b93f60b8a"
      },
      "outputs": [
        {
          "output_type": "execute_result",
          "data": {
            "text/plain": [
              "34.0"
            ]
          },
          "metadata": {},
          "execution_count": 11
        }
      ],
      "source": [
        "# for weights = [0.7, 0.1]\n",
        "\n",
        "s_prob1 = sum_func(inputs, weights)\n",
        "s_prob1"
      ]
    },
    {
      "cell_type": "markdown",
      "metadata": {
        "id": "ddunQL_wyxFQ"
      },
      "source": [
        "# Create Step function"
      ]
    },
    {
      "cell_type": "code",
      "execution_count": null,
      "metadata": {
        "id": "Crx77NVyyxFR"
      },
      "outputs": [],
      "source": [
        "def step_function(sum_func):\n",
        "  if (sum_func >= 1):\n",
        "    print(f'The Sum Function is greater than or equal to 1')\n",
        "    return 1\n",
        "  else:\n",
        "        print(f'The Sum Function is NOT greater')\n",
        "        return 0"
      ]
    },
    {
      "cell_type": "markdown",
      "metadata": {
        "id": "73DHsANIyxFR"
      },
      "source": [
        "### Result"
      ]
    },
    {
      "cell_type": "code",
      "execution_count": null,
      "metadata": {
        "colab": {
          "base_uri": "https://localhost:8080/"
        },
        "id": "41hYSjdryxFX",
        "outputId": "6839b26a-ebf9-4978-b64e-209100e9c17c"
      },
      "outputs": [
        {
          "output_type": "stream",
          "name": "stdout",
          "text": [
            "The Sum Function is greater than or equal to 1\n"
          ]
        },
        {
          "output_type": "execute_result",
          "data": {
            "text/plain": [
              "1"
            ]
          },
          "metadata": {},
          "execution_count": 10
        }
      ],
      "source": [
        "step_function(s_prob1 )"
      ]
    },
    {
      "cell_type": "markdown",
      "metadata": {
        "id": "_BhHmCh2yxFY"
      },
      "source": [
        " ## If the is weights = [- 0.7, 0.1]"
      ]
    },
    {
      "cell_type": "code",
      "execution_count": null,
      "metadata": {
        "id": "R2VWm8FryxFZ"
      },
      "outputs": [],
      "source": [
        "weights = [-0.7, 0.1]"
      ]
    },
    {
      "cell_type": "code",
      "execution_count": null,
      "metadata": {
        "colab": {
          "base_uri": "https://localhost:8080/"
        },
        "id": "re31FNPOyxFf",
        "outputId": "92209c03-cfb6-4eee-f85e-34889b89f8cf"
      },
      "outputs": [
        {
          "output_type": "execute_result",
          "data": {
            "text/plain": [
              "-29.0"
            ]
          },
          "metadata": {},
          "execution_count": 12
        }
      ],
      "source": [
        "# for weights = [- 0.7, 0.1]\n",
        "\n",
        "s_prob2 = sum_func(inputs, weights)\n",
        "\n",
        "round(s_prob2, 2)  #round to 2 decimal places"
      ]
    },
    {
      "cell_type": "markdown",
      "metadata": {
        "id": "UTHV73sXyxFg"
      },
      "source": [
        "### Result"
      ]
    },
    {
      "cell_type": "code",
      "execution_count": null,
      "metadata": {
        "colab": {
          "base_uri": "https://localhost:8080/"
        },
        "id": "Mmxsmcz3yxFg",
        "outputId": "5ffc9109-52d9-4a59-8dcc-6de6fa013a3d"
      },
      "outputs": [
        {
          "output_type": "stream",
          "name": "stdout",
          "text": [
            "The Sum Function is NOT greater\n"
          ]
        },
        {
          "output_type": "execute_result",
          "data": {
            "text/plain": [
              "0"
            ]
          },
          "metadata": {},
          "execution_count": 13
        }
      ],
      "source": [
        "step_function(s_prob2 )"
      ]
    },
    {
      "cell_type": "markdown",
      "metadata": {
        "id": "lxOcEMteyxFh"
      },
      "source": [
        "### By changing the input values and weights observe different results"
      ]
    },
    {
      "cell_type": "code",
      "execution_count": null,
      "metadata": {
        "colab": {
          "base_uri": "https://localhost:8080/"
        },
        "id": "5IR1bmBZyxFn",
        "outputId": "9ccd3e81-d406-4663-c1c7-2d4f13256be4"
      },
      "outputs": [
        {
          "output_type": "execute_result",
          "data": {
            "text/plain": [
              "35.5"
            ]
          },
          "metadata": {},
          "execution_count": 14
        }
      ],
      "source": [
        "# for weights = [ 0.9, -0.2]\n",
        "\n",
        "weights = [ 0.9, -0.2]\n",
        "s_prob2 = sum_func(inputs, weights)\n",
        "\n",
        "round(s_prob2, 2)  #round to 2 decimal places"
      ]
    },
    {
      "cell_type": "code",
      "source": [
        "#Result\n",
        "step_function(s_prob2 )"
      ],
      "metadata": {
        "colab": {
          "base_uri": "https://localhost:8080/"
        },
        "id": "DWsAUIVGKHfK",
        "outputId": "58fa0f85-a692-42d7-de52-861d2a0d170f"
      },
      "execution_count": null,
      "outputs": [
        {
          "output_type": "stream",
          "name": "stdout",
          "text": [
            "The Sum Function is greater than or equal to 1\n"
          ]
        },
        {
          "output_type": "execute_result",
          "data": {
            "text/plain": [
              "1"
            ]
          },
          "metadata": {},
          "execution_count": 15
        }
      ]
    }
  ],
  "metadata": {
    "kernelspec": {
      "display_name": "Python 3",
      "language": "python",
      "name": "python3"
    },
    "language_info": {
      "codemirror_mode": {
        "name": "ipython",
        "version": 3
      },
      "file_extension": ".py",
      "mimetype": "text/x-python",
      "name": "python",
      "nbconvert_exporter": "python",
      "pygments_lexer": "ipython3",
      "version": "3.7.6"
    },
    "colab": {
      "provenance": [],
      "include_colab_link": true
    }
  },
  "nbformat": 4,
  "nbformat_minor": 0
}