{
  "cells": [
    {
      "cell_type": "markdown",
      "metadata": {
        "id": "view-in-github",
        "colab_type": "text"
      },
      "source": [
        "<a href=\"https://colab.research.google.com/github/amutebe/alexmutebe.github.io/blob/main/MACHINE%20LEARNING/UNIT%207/Unit07_Ex3_multi_layer_Perceptron.ipynb\" target=\"_parent\"><img src=\"https://colab.research.google.com/assets/colab-badge.svg\" alt=\"Open In Colab\"/></a>"
      ]
    },
    {
      "cell_type": "markdown",
      "metadata": {
        "id": "-2-1O6BMiLB0"
      },
      "source": [
        "### Author: Dr Mike Lakoju"
      ]
    },
    {
      "cell_type": "markdown",
      "metadata": {
        "id": "FHO3fMUbiLB_"
      },
      "source": [
        "![Screenshot%202021-01-25%20at%203.56.38%20pm.png](attachment:Screenshot%202021-01-25%20at%203.56.38%20pm.png)"
      ]
    },
    {
      "cell_type": "markdown",
      "metadata": {
        "id": "YjFov72GiLCA"
      },
      "source": [
        "    * If X is high, the value is approximately 1\n",
        "    * if X is small, the value is approximately 0"
      ]
    },
    {
      "cell_type": "markdown",
      "metadata": {
        "id": "_38hUpWPiLCA"
      },
      "source": [
        "## Import Libraries"
      ]
    },
    {
      "cell_type": "code",
      "execution_count": null,
      "metadata": {
        "id": "lZPYNFOTiLCB"
      },
      "outputs": [],
      "source": [
        "import numpy as np"
      ]
    },
    {
      "cell_type": "markdown",
      "metadata": {
        "id": "Dpg7qKIyiLCB"
      },
      "source": [
        "## Define the Sigmoid Function"
      ]
    },
    {
      "cell_type": "code",
      "execution_count": null,
      "metadata": {
        "id": "32zEasyniLCB"
      },
      "outputs": [],
      "source": [
        "def sigmoid(sum_func):\n",
        "  return 1 / (1 + np.exp(-sum_func))"
      ]
    },
    {
      "cell_type": "code",
      "execution_count": null,
      "metadata": {
        "colab": {
          "base_uri": "https://localhost:8080/"
        },
        "id": "_JCD333OiLCC",
        "outputId": "653ada3b-e6a9-4709-ac18-ee2b341db9f3"
      },
      "outputs": [
        {
          "output_type": "execute_result",
          "data": {
            "text/plain": [
              "0.5"
            ]
          },
          "metadata": {},
          "execution_count": 3
        }
      ],
      "source": [
        "sigmoid(0)"
      ]
    },
    {
      "cell_type": "code",
      "execution_count": null,
      "metadata": {
        "colab": {
          "base_uri": "https://localhost:8080/"
        },
        "id": "4WGMOBz7iLCC",
        "outputId": "34b68b7f-259e-44bf-cd4a-1cfb529883be"
      },
      "outputs": [
        {
          "output_type": "execute_result",
          "data": {
            "text/plain": [
              "7.38905609893065"
            ]
          },
          "metadata": {},
          "execution_count": 4
        }
      ],
      "source": [
        "np.exp(2)"
      ]
    },
    {
      "cell_type": "code",
      "execution_count": null,
      "metadata": {
        "colab": {
          "base_uri": "https://localhost:8080/"
        },
        "id": "PvtzE_hkiLCC",
        "outputId": "e215373e-f8e3-4661-c847-3e3080de79d5"
      },
      "outputs": [
        {
          "output_type": "execute_result",
          "data": {
            "text/plain": [
              "2.718281828459045"
            ]
          },
          "metadata": {},
          "execution_count": 5
        }
      ],
      "source": [
        "np.exp(1)"
      ]
    },
    {
      "cell_type": "code",
      "execution_count": null,
      "metadata": {
        "colab": {
          "base_uri": "https://localhost:8080/"
        },
        "id": "fkI2DfKriLCD",
        "outputId": "5f6cd31f-45ed-473a-d3b1-18c3f5155273"
      },
      "outputs": [
        {
          "output_type": "execute_result",
          "data": {
            "text/plain": [
              "1.0"
            ]
          },
          "metadata": {},
          "execution_count": 6
        }
      ],
      "source": [
        "sigmoid(40)"
      ]
    },
    {
      "cell_type": "code",
      "execution_count": null,
      "metadata": {
        "colab": {
          "base_uri": "https://localhost:8080/"
        },
        "id": "SqSr6LUMiLCD",
        "outputId": "c272e996-fc6e-4a1d-ba4b-13ee4d545db3"
      },
      "outputs": [
        {
          "output_type": "execute_result",
          "data": {
            "text/plain": [
              "1.2501528648238603e-09"
            ]
          },
          "metadata": {},
          "execution_count": 7
        }
      ],
      "source": [
        "sigmoid(-20.5)"
      ]
    },
    {
      "cell_type": "markdown",
      "metadata": {
        "id": "AKmaOnPtiLCD"
      },
      "source": [
        "# Input Layer to Hidden Layer"
      ]
    },
    {
      "cell_type": "markdown",
      "metadata": {
        "id": "9Ft3LNkWiLCE"
      },
      "source": [
        "![Screenshot%202021-01-26%20at%2011.39.16%20am.png](attachment:Screenshot%202021-01-26%20at%2011.39.16%20am.png)"
      ]
    },
    {
      "cell_type": "markdown",
      "metadata": {
        "id": "ZCS8eV81iLCE"
      },
      "source": [
        "### Define \"Inputs, outputs and weights\" as Numpy arrays"
      ]
    },
    {
      "cell_type": "markdown",
      "metadata": {
        "id": "oe1JHNgliLCE"
      },
      "source": [
        "#### Inputs"
      ]
    },
    {
      "cell_type": "code",
      "execution_count": null,
      "metadata": {
        "id": "fNhXNKGMiLCE"
      },
      "outputs": [],
      "source": [
        "inputs = np.array([[0,0],\n",
        "                   [0,1],\n",
        "                   [1,0],\n",
        "                   [1,1]])"
      ]
    },
    {
      "cell_type": "code",
      "execution_count": null,
      "metadata": {
        "colab": {
          "base_uri": "https://localhost:8080/"
        },
        "id": "5Uz8kmMAiLCE",
        "outputId": "adacf0c7-1bb9-45b9-b32f-98ab74fa0215"
      },
      "outputs": [
        {
          "output_type": "execute_result",
          "data": {
            "text/plain": [
              "array([[0, 0],\n",
              "       [0, 1],\n",
              "       [1, 0],\n",
              "       [1, 1]])"
            ]
          },
          "metadata": {},
          "execution_count": 9
        }
      ],
      "source": [
        "inputs"
      ]
    },
    {
      "cell_type": "code",
      "execution_count": null,
      "metadata": {
        "colab": {
          "base_uri": "https://localhost:8080/"
        },
        "id": "VQNBgLmSiLCE",
        "outputId": "7ba903a9-0fe3-45ae-8334-bd329945463a"
      },
      "outputs": [
        {
          "output_type": "execute_result",
          "data": {
            "text/plain": [
              "(4, 2)"
            ]
          },
          "metadata": {},
          "execution_count": 5
        }
      ],
      "source": [
        "inputs.shape"
      ]
    },
    {
      "cell_type": "markdown",
      "metadata": {
        "id": "KLRVh-4FiLCF"
      },
      "source": [
        "#### Outputs"
      ]
    },
    {
      "cell_type": "code",
      "execution_count": null,
      "metadata": {
        "id": "8604o0dRiLCF"
      },
      "outputs": [],
      "source": [
        "outputs = np.array([[0],\n",
        "                    [1],\n",
        "                    [1],\n",
        "                    [0]])"
      ]
    },
    {
      "cell_type": "code",
      "execution_count": null,
      "metadata": {
        "colab": {
          "base_uri": "https://localhost:8080/"
        },
        "id": "P6Wem7n4iLCF",
        "outputId": "08ff228b-dc66-499c-f0ac-4ab3a31311f5"
      },
      "outputs": [
        {
          "output_type": "execute_result",
          "data": {
            "text/plain": [
              "(4, 1)"
            ]
          },
          "metadata": {},
          "execution_count": 12
        }
      ],
      "source": [
        "outputs.shape"
      ]
    },
    {
      "cell_type": "markdown",
      "metadata": {
        "id": "XHdHatbViLCF"
      },
      "source": [
        "### Weights"
      ]
    },
    {
      "cell_type": "markdown",
      "metadata": {
        "id": "qWzhr4IxiLCF"
      },
      "source": [
        "#### These weights are for the connection between the inputs and the hidden layer"
      ]
    },
    {
      "cell_type": "code",
      "execution_count": null,
      "metadata": {
        "colab": {
          "base_uri": "https://localhost:8080/"
        },
        "id": "XVhFUirviLCF",
        "outputId": "94783315-7f6e-4857-ae6f-6f978235cdbb"
      },
      "outputs": [
        {
          "output_type": "execute_result",
          "data": {
            "text/plain": [
              "(2, 3)"
            ]
          },
          "metadata": {},
          "execution_count": 7
        }
      ],
      "source": [
        "# First row holds the weights for x1, 2nd row contains the weights for x2\n",
        "\n",
        "weights_0 = np.array([[-0.424, -0.740, -0.961],\n",
        "                     [0.358, -0.577, -0.469]])\n",
        "weights_0.shape"
      ]
    },
    {
      "cell_type": "markdown",
      "metadata": {
        "id": "-YUIJvkniLCG"
      },
      "source": [
        "#### These weights are for the connection between the  hidden layer and the output"
      ]
    },
    {
      "cell_type": "code",
      "execution_count": null,
      "metadata": {
        "colab": {
          "base_uri": "https://localhost:8080/"
        },
        "id": "oFryFofIiLCG",
        "outputId": "d80dfd12-933c-4a89-ace9-cfec17ba5bf4"
      },
      "outputs": [
        {
          "output_type": "execute_result",
          "data": {
            "text/plain": [
              "(3, 1)"
            ]
          },
          "metadata": {},
          "execution_count": 8
        }
      ],
      "source": [
        "weights_1 = np.array([[-0.017],\n",
        "                     [-0.893],\n",
        "                     [0.148]])\n",
        "weights_1.shape"
      ]
    },
    {
      "cell_type": "markdown",
      "metadata": {
        "id": "GkPWF-qXiLCH"
      },
      "source": [
        "#### Epochs & Learning Rate"
      ]
    },
    {
      "cell_type": "code",
      "execution_count": null,
      "metadata": {
        "id": "G2EPJp23iLCH"
      },
      "outputs": [],
      "source": [
        "epochs = 100\n",
        "learning_rate = 0.3"
      ]
    },
    {
      "cell_type": "code",
      "execution_count": null,
      "metadata": {
        "id": "mWdx8flXiLCH"
      },
      "outputs": [],
      "source": [
        "#for epoch in epochs:"
      ]
    },
    {
      "cell_type": "markdown",
      "metadata": {
        "id": "zgKcKXUBiLCH"
      },
      "source": [
        "Dealing with the first side\n",
        "![Screenshot%202021-01-26%20at%204.00.58%20pm.png](attachment:Screenshot%202021-01-26%20at%204.00.58%20pm.png)"
      ]
    },
    {
      "cell_type": "code",
      "execution_count": null,
      "metadata": {
        "colab": {
          "base_uri": "https://localhost:8080/"
        },
        "id": "MMi-Ia2QiLCH",
        "outputId": "fea182ea-d5fd-4270-d33b-479b28637b24"
      },
      "outputs": [
        {
          "output_type": "execute_result",
          "data": {
            "text/plain": [
              "array([[0, 0],\n",
              "       [0, 1],\n",
              "       [1, 0],\n",
              "       [1, 1]])"
            ]
          },
          "metadata": {},
          "execution_count": 10
        }
      ],
      "source": [
        "input_layer = inputs\n",
        "input_layer"
      ]
    },
    {
      "cell_type": "code",
      "execution_count": null,
      "metadata": {
        "colab": {
          "base_uri": "https://localhost:8080/"
        },
        "id": "9D056-46iLCI",
        "outputId": "cf89c68c-7403-455e-e3aa-a889b6196409"
      },
      "outputs": [
        {
          "output_type": "execute_result",
          "data": {
            "text/plain": [
              "array([[ 0.   ,  0.   ,  0.   ],\n",
              "       [ 0.358, -0.577, -0.469],\n",
              "       [-0.424, -0.74 , -0.961],\n",
              "       [-0.066, -1.317, -1.43 ]])"
            ]
          },
          "metadata": {},
          "execution_count": 11
        }
      ],
      "source": [
        "# \"sum_synapse_0\" This holds the sum function total of weights for the hidden layer\n",
        "# For the Output: Each row holds the sum_func for each input data  [0,0,0 -> data 0,0],[0.358, -0.577, -0.469 --> 0,1]\n",
        "# The dot product does the matrix multiplication and also the sum\n",
        "\n",
        "sum_synapse_0 = np.dot(input_layer, weights_0)\n",
        "sum_synapse_0"
      ]
    },
    {
      "cell_type": "code",
      "execution_count": null,
      "metadata": {
        "colab": {
          "base_uri": "https://localhost:8080/"
        },
        "id": "QaM5j2G6iLCI",
        "outputId": "9029f8c2-208e-44b9-f0bd-de875706d64f"
      },
      "outputs": [
        {
          "output_type": "execute_result",
          "data": {
            "text/plain": [
              "array([[0.5       , 0.5       , 0.5       ],\n",
              "       [0.5885562 , 0.35962319, 0.38485296],\n",
              "       [0.39555998, 0.32300414, 0.27667802],\n",
              "       [0.48350599, 0.21131785, 0.19309868]])"
            ]
          },
          "metadata": {},
          "execution_count": 12
        }
      ],
      "source": [
        "# Computing the Sigmoid function for the Hidden layer\n",
        "\n",
        "hidden_layer = sigmoid(sum_synapse_0)\n",
        "hidden_layer"
      ]
    },
    {
      "cell_type": "markdown",
      "metadata": {
        "id": "tVo8ZnhLiLCI"
      },
      "source": [
        "Dealing with the 2nd side\n",
        "\n",
        "![Screenshot%202021-01-26%20at%204.03.52%20pm.png](attachment:Screenshot%202021-01-26%20at%204.03.52%20pm.png)"
      ]
    },
    {
      "cell_type": "code",
      "execution_count": null,
      "metadata": {
        "colab": {
          "base_uri": "https://localhost:8080/"
        },
        "id": "n_T5ysuZiLCI",
        "outputId": "2f59d060-cb16-4d4a-aa6b-98addf8f785f"
      },
      "outputs": [
        {
          "output_type": "execute_result",
          "data": {
            "text/plain": [
              "array([[-0.017],\n",
              "       [-0.893],\n",
              "       [ 0.148]])"
            ]
          },
          "metadata": {},
          "execution_count": 13
        }
      ],
      "source": [
        "weights_1"
      ]
    },
    {
      "cell_type": "code",
      "execution_count": null,
      "metadata": {
        "colab": {
          "base_uri": "https://localhost:8080/"
        },
        "id": "ik1TAb0CiLCJ",
        "outputId": "dfdab3ff-678c-4342-de82-feb749fe6e2c"
      },
      "outputs": [
        {
          "output_type": "execute_result",
          "data": {
            "text/plain": [
              "array([[-0.381     ],\n",
              "       [-0.27419072],\n",
              "       [-0.25421887],\n",
              "       [-0.16834784]])"
            ]
          },
          "metadata": {},
          "execution_count": 14
        }
      ],
      "source": [
        "# \"sum_synapse_1\" This holds the sum function total of weights for the output layer\n",
        "# For the Output: Each row holds the sum_func for each input data\n",
        "\n",
        "sum_synapse_1 = np.dot(hidden_layer, weights_1)\n",
        "sum_synapse_1"
      ]
    },
    {
      "cell_type": "code",
      "execution_count": null,
      "metadata": {
        "colab": {
          "base_uri": "https://localhost:8080/"
        },
        "id": "3jN5oxufiLCJ",
        "outputId": "3e3473b8-fe3b-4e58-db0f-32e75b4c8e8f"
      },
      "outputs": [
        {
          "output_type": "execute_result",
          "data": {
            "text/plain": [
              "array([[0.40588573],\n",
              "       [0.43187857],\n",
              "       [0.43678536],\n",
              "       [0.45801216]])"
            ]
          },
          "metadata": {},
          "execution_count": 15
        }
      ],
      "source": [
        "output_layer = sigmoid(sum_synapse_1)\n",
        "output_layer"
      ]
    },
    {
      "cell_type": "markdown",
      "metadata": {
        "id": "qzrvM0tciLCJ"
      },
      "source": [
        "\n",
        "![Screenshot%202021-01-26%20at%205.36.22%20pm.png](attachment:Screenshot%202021-01-26%20at%205.36.22%20pm.png)"
      ]
    },
    {
      "cell_type": "code",
      "execution_count": null,
      "metadata": {
        "colab": {
          "base_uri": "https://localhost:8080/"
        },
        "id": "hNl8riV7iLCK",
        "outputId": "197a374d-627f-4628-f36b-45b7b5f796f8"
      },
      "outputs": [
        {
          "output_type": "execute_result",
          "data": {
            "text/plain": [
              "array([[0],\n",
              "       [1],\n",
              "       [1],\n",
              "       [0]])"
            ]
          },
          "metadata": {},
          "execution_count": 16
        }
      ],
      "source": [
        "outputs"
      ]
    },
    {
      "cell_type": "code",
      "execution_count": null,
      "metadata": {
        "colab": {
          "base_uri": "https://localhost:8080/"
        },
        "id": "tA66JM9tiLCL",
        "outputId": "9fb6527c-67e2-4969-be4f-e97151730f5c"
      },
      "outputs": [
        {
          "output_type": "execute_result",
          "data": {
            "text/plain": [
              "array([[0.40588573],\n",
              "       [0.43187857],\n",
              "       [0.43678536],\n",
              "       [0.45801216]])"
            ]
          },
          "metadata": {},
          "execution_count": 17
        }
      ],
      "source": [
        "output_layer"
      ]
    },
    {
      "cell_type": "code",
      "execution_count": null,
      "metadata": {
        "colab": {
          "base_uri": "https://localhost:8080/"
        },
        "id": "fcv9dAa4iLCL",
        "outputId": "41ab73d0-5b1d-4564-8f71-dd10903a9734"
      },
      "outputs": [
        {
          "output_type": "execute_result",
          "data": {
            "text/plain": [
              "array([[-0.40588573],\n",
              "       [ 0.56812143],\n",
              "       [ 0.56321464],\n",
              "       [-0.45801216]])"
            ]
          },
          "metadata": {},
          "execution_count": 18
        }
      ],
      "source": [
        "error_output_layer = outputs - output_layer\n",
        "error_output_layer"
      ]
    },
    {
      "cell_type": "code",
      "execution_count": null,
      "metadata": {
        "colab": {
          "base_uri": "https://localhost:8080/"
        },
        "id": "0Lk-5_0MiLCL",
        "outputId": "dd3d47fc-6ccc-4fb6-beb2-9be420997b14"
      },
      "outputs": [
        {
          "output_type": "execute_result",
          "data": {
            "text/plain": [
              "0.49880848923713045"
            ]
          },
          "metadata": {},
          "execution_count": 19
        }
      ],
      "source": [
        "average_error = np.mean(abs(error_output_layer))\n",
        "average_error"
      ]
    },
    {
      "cell_type": "markdown",
      "metadata": {
        "id": "lUqDAH9hiLCL"
      },
      "source": [
        "Sigmoid Derivative\n",
        "![Screenshot%202021-01-27%20at%201.44.39%20am.png](attachment:Screenshot%202021-01-27%20at%201.44.39%20am.png)"
      ]
    },
    {
      "cell_type": "code",
      "execution_count": null,
      "metadata": {
        "id": "O7FiADD0iLCL"
      },
      "outputs": [],
      "source": [
        "def sigmoid_derivative(sigmoid):\n",
        "    return sigmoid * (1 - sigmoid)"
      ]
    },
    {
      "cell_type": "markdown",
      "metadata": {
        "id": "QN5s_oeWiLCL"
      },
      "source": [
        "# Delta output Calculation"
      ]
    },
    {
      "cell_type": "markdown",
      "metadata": {
        "id": "2B0MbnwsiLCM"
      },
      "source": [
        "![Screenshot%202021-01-27%20at%2010.42.48%20am.png](attachment:Screenshot%202021-01-27%20at%2010.42.48%20am.png)"
      ]
    },
    {
      "cell_type": "code",
      "execution_count": null,
      "metadata": {
        "colab": {
          "base_uri": "https://localhost:8080/"
        },
        "id": "SmcPppkLiLCM",
        "outputId": "2430497f-7f32-467a-fc0b-cffafe13d8a4"
      },
      "outputs": [
        {
          "output_type": "execute_result",
          "data": {
            "text/plain": [
              "array([[0.40588573],\n",
              "       [0.43187857],\n",
              "       [0.43678536],\n",
              "       [0.45801216]])"
            ]
          },
          "metadata": {},
          "execution_count": 21
        }
      ],
      "source": [
        "# output_layer holds the results of our application of the sigmoid, computed above\n",
        "\n",
        "output_layer"
      ]
    },
    {
      "cell_type": "code",
      "execution_count": null,
      "metadata": {
        "colab": {
          "base_uri": "https://localhost:8080/"
        },
        "id": "VfFz8rMHiLCM",
        "outputId": "d54d762a-3bd9-4666-9880-029cb6a9450d"
      },
      "outputs": [
        {
          "output_type": "execute_result",
          "data": {
            "text/plain": [
              "array([[0.2411425 ],\n",
              "       [0.24535947],\n",
              "       [0.24600391],\n",
              "       [0.24823702]])"
            ]
          },
          "metadata": {},
          "execution_count": 22
        }
      ],
      "source": [
        "# derivative_output is our Derivative of the activation function (sigmoid) which we have on the slide\n",
        "# each row is for each instance of our input dataset\n",
        "\n",
        "derivative_output = sigmoid_derivative(output_layer)\n",
        "derivative_output"
      ]
    },
    {
      "cell_type": "code",
      "execution_count": null,
      "metadata": {
        "colab": {
          "base_uri": "https://localhost:8080/"
        },
        "id": "fu2y9iEBiLCM",
        "outputId": "a76bfb38-76c4-4e53-a1a2-5d454dbff7fc"
      },
      "outputs": [
        {
          "output_type": "execute_result",
          "data": {
            "text/plain": [
              "array([[-0.40588573],\n",
              "       [ 0.56812143],\n",
              "       [ 0.56321464],\n",
              "       [-0.45801216]])"
            ]
          },
          "metadata": {},
          "execution_count": 23
        }
      ],
      "source": [
        "error_output_layer"
      ]
    },
    {
      "cell_type": "code",
      "execution_count": null,
      "metadata": {
        "colab": {
          "base_uri": "https://localhost:8080/"
        },
        "id": "_ehTRqHDiLCM",
        "outputId": "58be8102-b79e-423c-88c7-7b482b153839"
      },
      "outputs": [
        {
          "output_type": "execute_result",
          "data": {
            "text/plain": [
              "array([[-0.0978763 ],\n",
              "       [ 0.13939397],\n",
              "       [ 0.138553  ],\n",
              "       [-0.11369557]])"
            ]
          },
          "metadata": {},
          "execution_count": 24
        }
      ],
      "source": [
        "# Delta output\n",
        "# each row is for each instance of our input dataset\n",
        "\n",
        "delta_output = error_output_layer * derivative_output\n",
        "delta_output"
      ]
    },
    {
      "cell_type": "markdown",
      "metadata": {
        "id": "KJtJABpyiLCM"
      },
      "source": [
        "# Delta calculations for the Hidden Layer\n",
        "\n",
        "![Screenshot%202021-01-27%20at%203.17.38%20pm.png](attachment:Screenshot%202021-01-27%20at%203.17.38%20pm.png)"
      ]
    },
    {
      "cell_type": "code",
      "execution_count": null,
      "metadata": {
        "colab": {
          "base_uri": "https://localhost:8080/"
        },
        "id": "mng091t7iLCN",
        "outputId": "6f0f55f7-ae08-421d-a631-abf4e049d24c"
      },
      "outputs": [
        {
          "output_type": "execute_result",
          "data": {
            "text/plain": [
              "array([[-0.0978763 ],\n",
              "       [ 0.13939397],\n",
              "       [ 0.138553  ],\n",
              "       [-0.11369557]])"
            ]
          },
          "metadata": {},
          "execution_count": 25
        }
      ],
      "source": [
        "delta_output"
      ]
    },
    {
      "cell_type": "code",
      "execution_count": null,
      "metadata": {
        "colab": {
          "base_uri": "https://localhost:8080/"
        },
        "id": "V44RBMGmiLCN",
        "outputId": "c2b4d94c-6ac0-4399-a6d9-cbac98c47ee8"
      },
      "outputs": [
        {
          "output_type": "execute_result",
          "data": {
            "text/plain": [
              "array([[-0.017],\n",
              "       [-0.893],\n",
              "       [ 0.148]])"
            ]
          },
          "metadata": {},
          "execution_count": 26
        }
      ],
      "source": [
        "weights_1"
      ]
    },
    {
      "cell_type": "markdown",
      "metadata": {
        "id": "tvwcxYI2iLCN"
      },
      "source": [
        "#### NOTE THAT:\n",
        "    * Lets deal with this part first (Weight  * delta_output)\n",
        "    * Notice that we will get an error below becuase of the shape of the weights_1  (Transpose)"
      ]
    },
    {
      "cell_type": "markdown",
      "source": [
        "delta_output_x_weight = delta_output.dot(weights_1)"
      ],
      "metadata": {
        "id": "mg8Pyxjnmv4g"
      }
    },
    {
      "cell_type": "code",
      "execution_count": null,
      "metadata": {
        "colab": {
          "base_uri": "https://localhost:8080/",
          "height": 141
        },
        "id": "Qzl9we26iLCN",
        "outputId": "2cfbbc92-43cf-4cb3-f4cc-3dc31087d687"
      },
      "outputs": [
        {
          "output_type": "error",
          "ename": "ValueError",
          "evalue": "shapes (4,1) and (3,1) not aligned: 1 (dim 1) != 3 (dim 0)",
          "traceback": [
            "\u001b[0;31m---------------------------------------------------------------------------\u001b[0m",
            "\u001b[0;31mValueError\u001b[0m                                Traceback (most recent call last)",
            "\u001b[0;32m<ipython-input-27-50b740e5a31c>\u001b[0m in \u001b[0;36m<cell line: 1>\u001b[0;34m()\u001b[0m\n\u001b[0;32m----> 1\u001b[0;31m \u001b[0mdelta_output_x_weight\u001b[0m \u001b[0;34m=\u001b[0m \u001b[0mdelta_output\u001b[0m\u001b[0;34m.\u001b[0m\u001b[0mdot\u001b[0m\u001b[0;34m(\u001b[0m\u001b[0mweights_1\u001b[0m\u001b[0;34m)\u001b[0m\u001b[0;34m\u001b[0m\u001b[0;34m\u001b[0m\u001b[0m\n\u001b[0m",
            "\u001b[0;31mValueError\u001b[0m: shapes (4,1) and (3,1) not aligned: 1 (dim 1) != 3 (dim 0)"
          ]
        }
      ],
      "source": [
        "delta_output_x_weight = delta_output.dot(weights_1)"
      ]
    },
    {
      "cell_type": "code",
      "execution_count": null,
      "metadata": {
        "id": "hKD5xSSqiLCO",
        "outputId": "d58fed7b-8258-47e0-ca3c-b0fb6a504285",
        "colab": {
          "base_uri": "https://localhost:8080/"
        }
      },
      "outputs": [
        {
          "output_type": "execute_result",
          "data": {
            "text/plain": [
              "(3, 1)"
            ]
          },
          "metadata": {},
          "execution_count": 28
        }
      ],
      "source": [
        "weights_1.shape"
      ]
    },
    {
      "cell_type": "code",
      "execution_count": null,
      "metadata": {
        "id": "z3a422AQiLCO",
        "outputId": "9d50851c-c7cb-410e-d7a7-379fb8fa67f0",
        "colab": {
          "base_uri": "https://localhost:8080/"
        }
      },
      "outputs": [
        {
          "output_type": "execute_result",
          "data": {
            "text/plain": [
              "array([[-0.017, -0.893,  0.148]])"
            ]
          },
          "metadata": {},
          "execution_count": 29
        }
      ],
      "source": [
        "weights_1T = weights_1.T\n",
        "weights_1T"
      ]
    },
    {
      "cell_type": "code",
      "execution_count": null,
      "metadata": {
        "id": "gd_sqGfmiLCO",
        "outputId": "c85394ee-7ced-42d3-ae14-19f42e38c130",
        "colab": {
          "base_uri": "https://localhost:8080/"
        }
      },
      "outputs": [
        {
          "output_type": "execute_result",
          "data": {
            "text/plain": [
              "(1, 3)"
            ]
          },
          "metadata": {},
          "execution_count": 30
        }
      ],
      "source": [
        "weights_1T.shape"
      ]
    },
    {
      "cell_type": "markdown",
      "metadata": {
        "id": "NqIAy61miLCO"
      },
      "source": [
        "#### Each one of the weights will have to be multiplied by each delta_output for each data instance     \n",
        "       \n",
        "       array([[-0.017],\n",
        "             [-0.893],\n",
        "             [ 0.148]])"
      ]
    },
    {
      "cell_type": "code",
      "execution_count": null,
      "metadata": {
        "id": "1OrpT5SxiLCO",
        "outputId": "5e7f4dce-3333-4a91-aa34-7364ac256cb8",
        "colab": {
          "base_uri": "https://localhost:8080/"
        }
      },
      "outputs": [
        {
          "output_type": "execute_result",
          "data": {
            "text/plain": [
              "array([[ 0.0016639 ,  0.08740354, -0.01448569],\n",
              "       [-0.0023697 , -0.12447882,  0.02063031],\n",
              "       [-0.0023554 , -0.12372783,  0.02050584],\n",
              "       [ 0.00193282,  0.10153015, -0.01682694]])"
            ]
          },
          "metadata": {},
          "execution_count": 31
        }
      ],
      "source": [
        "delta_output_x_weight = delta_output.dot(weights_1T)\n",
        "delta_output_x_weight"
      ]
    },
    {
      "cell_type": "markdown",
      "metadata": {
        "id": "cPzcEXmHiLCP"
      },
      "source": [
        "#### NOTE THAT:\n",
        "    * Now we need to deal with the last part of the equation   \n",
        "    * sigmoid_derivative * delta_output_x_weight"
      ]
    },
    {
      "cell_type": "code",
      "execution_count": null,
      "metadata": {
        "id": "9adFzvSYiLCP",
        "outputId": "8bd6b6bc-17a4-44bc-b2a8-9be37080bc3b",
        "colab": {
          "base_uri": "https://localhost:8080/"
        }
      },
      "outputs": [
        {
          "output_type": "execute_result",
          "data": {
            "text/plain": [
              "array([[0.5       , 0.5       , 0.5       ],\n",
              "       [0.5885562 , 0.35962319, 0.38485296],\n",
              "       [0.39555998, 0.32300414, 0.27667802],\n",
              "       [0.48350599, 0.21131785, 0.19309868]])"
            ]
          },
          "metadata": {},
          "execution_count": 32
        }
      ],
      "source": [
        "hidden_layer"
      ]
    },
    {
      "cell_type": "code",
      "execution_count": null,
      "metadata": {
        "id": "C7CWiCsWiLCP",
        "outputId": "dadd4dab-7ad9-4845-ff19-190716be9b92",
        "colab": {
          "base_uri": "https://localhost:8080/"
        }
      },
      "outputs": [
        {
          "output_type": "execute_result",
          "data": {
            "text/plain": [
              "array([[ 0.00041597,  0.02185088, -0.00362142],\n",
              "       [-0.00057384, -0.02866677,  0.00488404],\n",
              "       [-0.00056316, -0.02705587,  0.00410378],\n",
              "       [ 0.00048268,  0.01692128, -0.00262183]])"
            ]
          },
          "metadata": {},
          "execution_count": 33
        }
      ],
      "source": [
        "#  Each row in the output of delta_hidden_layer is for the data input values\n",
        "\n",
        "delta_hidden_layer = delta_output_x_weight * sigmoid_derivative(hidden_layer)\n",
        "delta_hidden_layer"
      ]
    },
    {
      "cell_type": "markdown",
      "metadata": {
        "id": "Z1Uw7MfTiLCP"
      },
      "source": [
        "![Screenshot%202021-01-28%20at%208.42.12%20am.png](attachment:Screenshot%202021-01-28%20at%208.42.12%20am.png)"
      ]
    },
    {
      "cell_type": "markdown",
      "metadata": {
        "id": "Ya9biSijiLCP"
      },
      "source": [
        "#### We will deal with the (input * delta) first\n",
        "* The first column in \"hidden_layer\" holds  the activation value for the first neuron"
      ]
    },
    {
      "cell_type": "code",
      "execution_count": null,
      "metadata": {
        "id": "FZrg-EgGiLCP",
        "outputId": "ca22c894-1b03-4991-edef-887e5c121e07",
        "colab": {
          "base_uri": "https://localhost:8080/"
        }
      },
      "outputs": [
        {
          "output_type": "execute_result",
          "data": {
            "text/plain": [
              "array([[0.5       , 0.5       , 0.5       ],\n",
              "       [0.5885562 , 0.35962319, 0.38485296],\n",
              "       [0.39555998, 0.32300414, 0.27667802],\n",
              "       [0.48350599, 0.21131785, 0.19309868]])"
            ]
          },
          "metadata": {},
          "execution_count": 34
        }
      ],
      "source": [
        "hidden_layer"
      ]
    },
    {
      "cell_type": "code",
      "execution_count": null,
      "metadata": {
        "id": "uT5rdpIyiLCQ",
        "outputId": "9c78c5e5-5a84-4f02-d4ff-bf415c17cd58",
        "colab": {
          "base_uri": "https://localhost:8080/"
        }
      },
      "outputs": [
        {
          "output_type": "execute_result",
          "data": {
            "text/plain": [
              "array([[-0.0978763 ],\n",
              "       [ 0.13939397],\n",
              "       [ 0.138553  ],\n",
              "       [-0.11369557]])"
            ]
          },
          "metadata": {},
          "execution_count": 35
        }
      ],
      "source": [
        "delta_output"
      ]
    },
    {
      "cell_type": "markdown",
      "metadata": {
        "id": "tRz8lpPoiLCQ"
      },
      "source": [
        "* We need to multiply the \"inputs\" by \"delta\" however, for the matrix multiplication we need to transpose the values in the hidden_layer, so we have all of them on one row for each neuron"
      ]
    },
    {
      "cell_type": "code",
      "execution_count": null,
      "metadata": {
        "id": "R8gL-Ha8iLCQ",
        "outputId": "42814461-82e2-48c3-9112-46bcfe1ebe6b",
        "colab": {
          "base_uri": "https://localhost:8080/"
        }
      },
      "outputs": [
        {
          "output_type": "execute_result",
          "data": {
            "text/plain": [
              "array([[0.5       , 0.5885562 , 0.39555998, 0.48350599],\n",
              "       [0.5       , 0.35962319, 0.32300414, 0.21131785],\n",
              "       [0.5       , 0.38485296, 0.27667802, 0.19309868]])"
            ]
          },
          "metadata": {},
          "execution_count": 36
        }
      ],
      "source": [
        "hidden_layerT = hidden_layer.T\n",
        "hidden_layerT"
      ]
    },
    {
      "cell_type": "code",
      "execution_count": null,
      "metadata": {
        "id": "u-bv8c8viLCQ",
        "outputId": "147a78af-bf44-4ab5-9665-d7faf80d6ffe",
        "colab": {
          "base_uri": "https://localhost:8080/"
        }
      },
      "outputs": [
        {
          "output_type": "execute_result",
          "data": {
            "text/plain": [
              "array([[0.03293657],\n",
              "       [0.02191844],\n",
              "       [0.02108814]])"
            ]
          },
          "metadata": {},
          "execution_count": 37
        }
      ],
      "source": [
        "input_x_delta1 = hidden_layerT.dot(delta_output)\n",
        "input_x_delta1"
      ]
    },
    {
      "cell_type": "markdown",
      "metadata": {
        "id": "I_SjW2fniLCQ"
      },
      "source": [
        "#### Let us now update the \"weights_1\""
      ]
    },
    {
      "cell_type": "code",
      "execution_count": null,
      "metadata": {
        "id": "5zGrBhhFiLCR",
        "outputId": "0336f6c1-c077-4522-dae6-de0c8bec8415",
        "colab": {
          "base_uri": "https://localhost:8080/"
        }
      },
      "outputs": [
        {
          "output_type": "execute_result",
          "data": {
            "text/plain": [
              "array([[-0.00711903],\n",
              "       [-0.88642447],\n",
              "       [ 0.15432644]])"
            ]
          },
          "metadata": {},
          "execution_count": 38
        }
      ],
      "source": [
        "weights_1 = weights_1 + (input_x_delta1 * learning_rate)\n",
        "weights_1"
      ]
    },
    {
      "cell_type": "markdown",
      "metadata": {
        "id": "PqTVvp-ZiLCR"
      },
      "source": [
        "![Screenshot%202021-01-28%20at%209.15.40%20am.png](attachment:Screenshot%202021-01-28%20at%209.15.40%20am.png)"
      ]
    },
    {
      "cell_type": "markdown",
      "metadata": {
        "id": "ONZi4PKjiLCR"
      },
      "source": [
        "## Dealing with the Hidden Layer to Input Layer\n",
        "![Screenshot%202021-01-28%20at%209.17.47%20am.png](attachment:Screenshot%202021-01-28%20at%209.17.47%20am.png)"
      ]
    },
    {
      "cell_type": "code",
      "execution_count": null,
      "metadata": {
        "id": "p__C8wn8iLCR",
        "outputId": "625598da-849a-4bd7-804f-413830d00eab",
        "colab": {
          "base_uri": "https://localhost:8080/"
        }
      },
      "outputs": [
        {
          "output_type": "execute_result",
          "data": {
            "text/plain": [
              "array([[0, 0],\n",
              "       [0, 1],\n",
              "       [1, 0],\n",
              "       [1, 1]])"
            ]
          },
          "metadata": {},
          "execution_count": 39
        }
      ],
      "source": [
        "# First column is X1, and 2nd column is X2 (our input values )\n",
        "\n",
        "input_layer"
      ]
    },
    {
      "cell_type": "code",
      "execution_count": null,
      "metadata": {
        "id": "gTYLAjBKiLCR",
        "outputId": "e1068ce2-5107-4ee8-8ec6-520e37db6244",
        "colab": {
          "base_uri": "https://localhost:8080/"
        }
      },
      "outputs": [
        {
          "output_type": "execute_result",
          "data": {
            "text/plain": [
              "array([[ 0.00041597,  0.02185088, -0.00362142],\n",
              "       [-0.00057384, -0.02866677,  0.00488404],\n",
              "       [-0.00056316, -0.02705587,  0.00410378],\n",
              "       [ 0.00048268,  0.01692128, -0.00262183]])"
            ]
          },
          "metadata": {},
          "execution_count": 40
        }
      ],
      "source": [
        "delta_hidden_layer"
      ]
    },
    {
      "cell_type": "code",
      "execution_count": null,
      "metadata": {
        "id": "DoImcLK5iLCS",
        "outputId": "181338e9-9751-4fc9-b142-6da1be45a0d3",
        "colab": {
          "base_uri": "https://localhost:8080/"
        }
      },
      "outputs": [
        {
          "output_type": "execute_result",
          "data": {
            "text/plain": [
              "array([[0, 0, 1, 1],\n",
              "       [0, 1, 0, 1]])"
            ]
          },
          "metadata": {},
          "execution_count": 41
        }
      ],
      "source": [
        "# we need to transpose the values just as we did before\n",
        "\n",
        "input_layerT = input_layer.T\n",
        "input_layerT"
      ]
    },
    {
      "cell_type": "code",
      "execution_count": null,
      "metadata": {
        "id": "bJVrXGVNiLCS",
        "outputId": "fe4912bd-f05d-49ab-a8ae-47e014799af9",
        "colab": {
          "base_uri": "https://localhost:8080/"
        }
      },
      "outputs": [
        {
          "output_type": "execute_result",
          "data": {
            "text/plain": [
              "array([[-8.04778516e-05, -1.01345901e-02,  1.48194623e-03],\n",
              "       [-9.11603819e-05, -1.17454886e-02,  2.26221011e-03]])"
            ]
          },
          "metadata": {},
          "execution_count": 42
        }
      ],
      "source": [
        "input_x_delta0 = input_layerT.dot(delta_hidden_layer)\n",
        "input_x_delta0"
      ]
    },
    {
      "cell_type": "code",
      "execution_count": null,
      "metadata": {
        "id": "yudRMGfAiLCS",
        "outputId": "9c2123fe-7148-47f1-d5b3-1999840da92d",
        "colab": {
          "base_uri": "https://localhost:8080/"
        }
      },
      "outputs": [
        {
          "output_type": "execute_result",
          "data": {
            "text/plain": [
              "array([[-0.42402414, -0.74304038, -0.96055542],\n",
              "       [ 0.35797265, -0.58052365, -0.46832134]])"
            ]
          },
          "metadata": {},
          "execution_count": 43
        }
      ],
      "source": [
        "weights_0 = weights_0 + (input_x_delta0 * learning_rate)\n",
        "weights_0"
      ]
    },
    {
      "cell_type": "markdown",
      "metadata": {
        "id": "1Vv0C8VFiLCS"
      },
      "source": [
        "![Screenshot%202021-01-28%20at%209.24.48%20am.png](attachment:Screenshot%202021-01-28%20at%209.24.48%20am.png)"
      ]
    },
    {
      "cell_type": "markdown",
      "metadata": {
        "id": "M9SHnaCliLCS"
      },
      "source": [
        "### So all the lines of code above, has allowed us to complete our first epoch. we will need to put all the code together so we can run multiple epochs"
      ]
    },
    {
      "cell_type": "markdown",
      "metadata": {
        "id": "SOdl5aB7iLCS"
      },
      "source": [
        "# Complete Artificial Neural Network"
      ]
    },
    {
      "cell_type": "code",
      "execution_count": null,
      "metadata": {
        "id": "r68ZJ3priLCT"
      },
      "outputs": [],
      "source": [
        "#Importing Numpy\n",
        "import numpy as np\n",
        "\n",
        "# This is the sigmoid Function\n",
        "def sigmoid(sum):\n",
        "  return 1 / (1 + np.exp(-sum))\n",
        "\n",
        "#This is the sigmoid derivative as used before\n",
        "def sigmoid_derivative(sigmoid):\n",
        "  return sigmoid * (1 - sigmoid)\n",
        "\n",
        "# Our input values\n",
        "inputs = np.array([[0,0],\n",
        "                   [0,1],\n",
        "                   [1,0],\n",
        "                   [1,1]])\n",
        "#Our output values\n",
        "outputs = np.array([[0],\n",
        "                    [1],\n",
        "                    [1],\n",
        "                    [0]])"
      ]
    },
    {
      "cell_type": "code",
      "execution_count": null,
      "metadata": {
        "id": "CG8hp3PriLCT"
      },
      "outputs": [],
      "source": [
        "# weights_0 = np.array([[-0.424, -0.740, -0.961],\n",
        "#                     [0.358, -0.577, -0.469]])\n",
        "\n",
        "# weights_1 = np.array([[-0.017],\n",
        "#                     [-0.893],\n",
        "#                     [0.148]])"
      ]
    },
    {
      "cell_type": "markdown",
      "metadata": {
        "id": "A3DpKRnoiLCT"
      },
      "source": [
        "### Initializing our weights with random values\n",
        "* <b>Note:</b> Multiplying the random number by 2 and subtracting by 1, allows us to have a mix of both positive and negative random numbers for the weights"
      ]
    },
    {
      "cell_type": "code",
      "execution_count": null,
      "metadata": {
        "id": "XcdM8sXCiLCT"
      },
      "outputs": [],
      "source": [
        "weights_0 = 2 * np.random.random((2, 3)) - 1\n",
        "weights_1 = 2 * np.random.random((3, 1)) - 1"
      ]
    },
    {
      "cell_type": "code",
      "execution_count": null,
      "metadata": {
        "id": "UDA1iiT8iLCT",
        "outputId": "20606542-8780-4cfa-c267-4410332ed3eb",
        "colab": {
          "base_uri": "https://localhost:8080/",
          "height": 228
        }
      },
      "outputs": [
        {
          "output_type": "stream",
          "name": "stdout",
          "text": [
            "Epoch: 1 Error: 0.500883637737258\n"
          ]
        },
        {
          "output_type": "error",
          "ename": "NameError",
          "evalue": "name 'weights1' is not defined",
          "traceback": [
            "\u001b[0;31m---------------------------------------------------------------------------\u001b[0m",
            "\u001b[0;31mNameError\u001b[0m                                 Traceback (most recent call last)",
            "\u001b[0;32m<ipython-input-50-804bac1f83ad>\u001b[0m in \u001b[0;36m<cell line: 5>\u001b[0;34m()\u001b[0m\n\u001b[1;32m     20\u001b[0m   \u001b[0mderivative_output\u001b[0m \u001b[0;34m=\u001b[0m \u001b[0msigmoid_derivative\u001b[0m\u001b[0;34m(\u001b[0m\u001b[0moutput_layer\u001b[0m\u001b[0;34m)\u001b[0m\u001b[0;34m\u001b[0m\u001b[0;34m\u001b[0m\u001b[0m\n\u001b[1;32m     21\u001b[0m   \u001b[0mdelta_output\u001b[0m \u001b[0;34m=\u001b[0m \u001b[0merror_output_layer\u001b[0m \u001b[0;34m*\u001b[0m \u001b[0mderivative_output\u001b[0m\u001b[0;34m\u001b[0m\u001b[0;34m\u001b[0m\u001b[0m\n\u001b[0;32m---> 22\u001b[0;31m   \u001b[0mweights1T\u001b[0m \u001b[0;34m=\u001b[0m \u001b[0mweights1\u001b[0m\u001b[0;34m.\u001b[0m\u001b[0mT\u001b[0m\u001b[0;34m\u001b[0m\u001b[0;34m\u001b[0m\u001b[0m\n\u001b[0m\u001b[1;32m     23\u001b[0m   \u001b[0mdelta_output_weight\u001b[0m \u001b[0;34m=\u001b[0m \u001b[0mdelta_output\u001b[0m\u001b[0;34m.\u001b[0m\u001b[0mdot\u001b[0m\u001b[0;34m(\u001b[0m\u001b[0mweights1T\u001b[0m\u001b[0;34m)\u001b[0m\u001b[0;34m\u001b[0m\u001b[0;34m\u001b[0m\u001b[0m\n\u001b[1;32m     24\u001b[0m   \u001b[0mdelta_hidden_layer\u001b[0m \u001b[0;34m=\u001b[0m \u001b[0mdelta_output_weight\u001b[0m \u001b[0;34m*\u001b[0m \u001b[0msigmoid_derivative\u001b[0m\u001b[0;34m(\u001b[0m\u001b[0mhidden_layer\u001b[0m\u001b[0;34m)\u001b[0m\u001b[0;34m\u001b[0m\u001b[0;34m\u001b[0m\u001b[0m\n",
            "\u001b[0;31mNameError\u001b[0m: name 'weights1' is not defined"
          ]
        }
      ],
      "source": [
        "epochs = 400000\n",
        "learning_rate = 0.6\n",
        "error = []\n",
        "\n",
        "for epoch in range(epochs):\n",
        "  input_layer = inputs\n",
        "  sum_synapse0 = np.dot(input_layer, weights_0)\n",
        "  hidden_layer = sigmoid(sum_synapse0)\n",
        "\n",
        "  sum_synapse1 = np.dot(hidden_layer, weights_1)\n",
        "  output_layer = sigmoid(sum_synapse1)\n",
        "\n",
        "  error_output_layer = outputs - output_layer\n",
        "  average = np.mean(abs(error_output_layer))\n",
        "    #print after every specified range of the value\n",
        "  if epoch % 100000 == 0:\n",
        "    print('Epoch: ' + str(epoch + 1) + ' Error: ' + str(average))\n",
        "    error.append(average)\n",
        "\n",
        "  derivative_output = sigmoid_derivative(output_layer)\n",
        "  delta_output = error_output_layer * derivative_output\n",
        "  weights1T = weights1.T\n",
        "  delta_output_weight = delta_output.dot(weights1T)\n",
        "  delta_hidden_layer = delta_output_weight * sigmoid_derivative(hidden_layer)\n",
        "\n",
        "  hidden_layerT = hidden_layer.T\n",
        "  input_x_delta1 = hidden_layerT.dot(delta_output)\n",
        "  weights_1 = weights_1 + (input_x_delta1 * learning_rate)\n",
        "\n",
        "  input_layerT = input_layer.T\n",
        "  input_x_delta0 = input_layerT.dot(delta_hidden_layer)\n",
        "  weights_0 = weights_0 + (input_x_delta0 * learning_rate)"
      ]
    },
    {
      "cell_type": "markdown",
      "metadata": {
        "id": "hXT3sCeGiLCU"
      },
      "source": [
        "#### At this point after runing for 1million epochs you can see the value is very low."
      ]
    },
    {
      "cell_type": "code",
      "execution_count": null,
      "metadata": {
        "id": "s-U03MINiLCU",
        "outputId": "8184840f-4a7b-47ef-80ea-b6369e29aa4d",
        "colab": {
          "base_uri": "https://localhost:8080/"
        }
      },
      "outputs": [
        {
          "output_type": "execute_result",
          "data": {
            "text/plain": [
              "0.9903290320690693"
            ]
          },
          "metadata": {},
          "execution_count": 58
        }
      ],
      "source": [
        "#1 million epochs with a learning rate of 0.3\n",
        "1 - 0.009670967930930745"
      ]
    },
    {
      "cell_type": "code",
      "execution_count": null,
      "metadata": {
        "id": "cGTonuu2iLCU",
        "outputId": "18600d3c-6083-484d-9a03-2afa749a6fe6"
      },
      "outputs": [
        {
          "data": {
            "text/plain": [
              "0.9918079771904136"
            ]
          },
          "execution_count": 92,
          "metadata": {},
          "output_type": "execute_result"
        }
      ],
      "source": [
        "#after 400,000 epochs, with a learning rate of 0.6\n",
        "1- 0.008192022809586367"
      ]
    },
    {
      "cell_type": "markdown",
      "metadata": {
        "id": "7Iq3BKtEiLCU"
      },
      "source": [
        "# Let's visualize this result"
      ]
    },
    {
      "cell_type": "code",
      "execution_count": null,
      "metadata": {
        "id": "anYJik4riLCU"
      },
      "outputs": [],
      "source": [
        "import matplotlib.pyplot as plt\n"
      ]
    },
    {
      "cell_type": "code",
      "execution_count": null,
      "metadata": {
        "id": "zdYErhA5iLCU",
        "outputId": "1fef0e27-ccea-4473-9553-caa35dc58545"
      },
      "outputs": [
        {
          "data": {
            "image/png": "[encoded data removed]",
            "text/plain": [
              "<Figure size 432x288 with 1 Axes>"
            ]
          },
          "metadata": {
            "needs_background": "light"
          },
          "output_type": "display_data"
        }
      ],
      "source": [
        "plt.xlabel('Number of Epochs')\n",
        "plt.ylabel('Error')\n",
        "plt.title('Plot showing results from Neural Network')\n",
        "plt.plot(error)\n",
        "plt.show()"
      ]
    },
    {
      "cell_type": "code",
      "execution_count": null,
      "metadata": {
        "id": "nd4JuoZLiLCV",
        "outputId": "134c74bc-e373-4973-aafa-20d3b7181696"
      },
      "outputs": [
        {
          "data": {
            "image/png": "[encoded data removed]",
            "text/plain": [
              "<Figure size 432x288 with 1 Axes>"
            ]
          },
          "metadata": {
            "needs_background": "light"
          },
          "output_type": "display_data"
        }
      ],
      "source": [
        "plt.xlabel('Number of Epochs')\n",
        "plt.ylabel('Error')\n",
        "plt.title('Plot showing results from Neural Network')\n",
        "plt.plot(error)\n",
        "plt.show()"
      ]
    },
    {
      "cell_type": "markdown",
      "metadata": {
        "id": "AcpuxjHbiLCV"
      },
      "source": [
        "#### Compearing the outputs and the predictions"
      ]
    },
    {
      "cell_type": "code",
      "execution_count": null,
      "metadata": {
        "id": "rYyx6IVxiLCV",
        "outputId": "56cbefbe-3c15-41ba-9d41-0e7adf54f052"
      },
      "outputs": [
        {
          "data": {
            "text/plain": [
              "array([[0],\n",
              "       [1],\n",
              "       [1],\n",
              "       [0]])"
            ]
          },
          "execution_count": 74,
          "metadata": {},
          "output_type": "execute_result"
        }
      ],
      "source": [
        "outputs"
      ]
    },
    {
      "cell_type": "code",
      "execution_count": null,
      "metadata": {
        "id": "69bLNukOiLCV",
        "outputId": "13848668-0ba2-4718-887a-b57e34be522e"
      },
      "outputs": [
        {
          "data": {
            "text/plain": [
              "array([[0.0105802 ],\n",
              "       [0.9826343 ],\n",
              "       [0.98124727],\n",
              "       [0.02222762]])"
            ]
          },
          "execution_count": 75,
          "metadata": {},
          "output_type": "execute_result"
        }
      ],
      "source": [
        "output_layer"
      ]
    },
    {
      "cell_type": "markdown",
      "metadata": {
        "id": "0Q-QgZXaiLCW"
      },
      "source": [
        "#### * We see that our neural network was able to get values close to the actual values from the results.\n",
        "#### * This shows that our neural network can handle the complexity of the XOR operator dataset."
      ]
    },
    {
      "cell_type": "markdown",
      "metadata": {
        "id": "4-FJUb4biLCW"
      },
      "source": [
        "* Let us see the updated weights. These are the weights we will require if we want to make future predictions"
      ]
    },
    {
      "cell_type": "code",
      "execution_count": null,
      "metadata": {
        "id": "aYLT39WuiLCW",
        "outputId": "65be3045-32cf-450f-b3c0-641eef4387e3"
      },
      "outputs": [
        {
          "data": {
            "text/plain": [
              "array([[-0.04578885, -5.45125419, -1.01868082],\n",
              "       [ 1.04772434, -5.25578328, -0.5958262 ]])"
            ]
          },
          "execution_count": 77,
          "metadata": {},
          "output_type": "execute_result"
        }
      ],
      "source": [
        "weights_0"
      ]
    },
    {
      "cell_type": "code",
      "execution_count": null,
      "metadata": {
        "id": "Aay0M30tiLCW",
        "outputId": "f55e6628-92da-455c-c9e7-4c593a1640a3"
      },
      "outputs": [
        {
          "data": {
            "text/plain": [
              "array([[-14.93268248],\n",
              "       [-37.16040415],\n",
              "       [ 43.01681387]])"
            ]
          },
          "execution_count": 78,
          "metadata": {},
          "output_type": "execute_result"
        }
      ],
      "source": [
        "weights_1"
      ]
    },
    {
      "cell_type": "code",
      "execution_count": null,
      "metadata": {
        "id": "s816IEv2iLCX"
      },
      "outputs": [],
      "source": [
        "# This function accepts an instance of a dataset\n",
        "\n",
        "def calculate_output(instance):\n",
        "    #input to hidden layer\n",
        "    hidden_layer = sigmoid(np.dot(instance, weights_0))\n",
        "    #hidden to output layer\n",
        "    output_layer = sigmoid(np.dot(hidden_layer, weights_1))\n",
        "    return output_layer[0]"
      ]
    },
    {
      "cell_type": "code",
      "execution_count": null,
      "metadata": {
        "id": "WEo9klPYiLCX",
        "outputId": "5b0065d9-3c38-493d-f061-0d37ea14d528"
      },
      "outputs": [
        {
          "data": {
            "text/plain": [
              "0"
            ]
          },
          "execution_count": 95,
          "metadata": {},
          "output_type": "execute_result"
        }
      ],
      "source": [
        "round(calculate_output(np.array([0, 0])))"
      ]
    },
    {
      "cell_type": "code",
      "execution_count": null,
      "metadata": {
        "id": "PNFNx-YyiLCX",
        "outputId": "af0f51ee-b9bc-438d-aa57-766585dedbf4"
      },
      "outputs": [
        {
          "data": {
            "text/plain": [
              "1"
            ]
          },
          "execution_count": 96,
          "metadata": {},
          "output_type": "execute_result"
        }
      ],
      "source": [
        "round(calculate_output(np.array([0, 1])))"
      ]
    },
    {
      "cell_type": "code",
      "execution_count": null,
      "metadata": {
        "id": "9nS5zIsMiLCX",
        "outputId": "59f2a2bb-a336-4161-e554-58e3f73b9c48"
      },
      "outputs": [
        {
          "data": {
            "text/plain": [
              "1"
            ]
          },
          "execution_count": 97,
          "metadata": {},
          "output_type": "execute_result"
        }
      ],
      "source": [
        "round(calculate_output(np.array([1, 0])))"
      ]
    },
    {
      "cell_type": "code",
      "execution_count": null,
      "metadata": {
        "id": "n5YwkM9uiLCX",
        "outputId": "e34d3041-37d4-4a93-bf9a-a23c44848611"
      },
      "outputs": [
        {
          "data": {
            "text/plain": [
              "0"
            ]
          },
          "execution_count": 98,
          "metadata": {},
          "output_type": "execute_result"
        }
      ],
      "source": [
        "round(calculate_output(np.array([1, 1])))"
      ]
    },
    {
      "cell_type": "code",
      "execution_count": null,
      "metadata": {
        "id": "MQJ6_4jIiLCX"
      },
      "outputs": [],
      "source": []
    }
  ],
  "metadata": {
    "kernelspec": {
      "display_name": "Python 3",
      "name": "python3"
    },
    "language_info": {
      "codemirror_mode": {
        "name": "ipython",
        "version": 3
      },
      "file_extension": ".py",
      "mimetype": "text/x-python",
      "name": "python",
      "nbconvert_exporter": "python",
      "pygments_lexer": "ipython3",
      "version": "3.7.6"
    },
    "colab": {
      "provenance": [],
      "gpuType": "T4",
      "include_colab_link": true
    },
    "accelerator": "GPU"
  },
  "nbformat": 4,
  "nbformat_minor": 0
}